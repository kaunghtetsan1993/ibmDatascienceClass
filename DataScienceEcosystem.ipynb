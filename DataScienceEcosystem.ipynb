{
 "cells": [
  {
   "cell_type": "markdown",
   "id": "a281749f-d02d-4f95-9df6-3100b397145d",
   "metadata": {},
   "source": [
    "# Data Science Tools and Ecosystem"
   ]
  },
  {
   "cell_type": "markdown",
   "id": "8091ebfc-2b9e-409b-b14b-1f73f375d5e9",
   "metadata": {},
   "source": [
    "In this notebook, Data Science Tools and Ecosystem are summarized."
   ]
  },
  {
   "cell_type": "markdown",
   "id": "de2246b1-2c16-4f1d-a8d3-d116d7f847dc",
   "metadata": {},
   "source": [
    "Some of the popular languages that Data Scientists use are:\n"
   ]
  },
  {
   "cell_type": "markdown",
   "id": "883043b0-c07a-45b6-a16d-fd52449e5503",
   "metadata": {},
   "source": [
    "1. Python\n",
    "2. R\n",
    "3. SQL\n"
   ]
  },
  {
   "cell_type": "markdown",
   "id": "ca6019dc-4800-406f-b6a2-b4aac649fc6d",
   "metadata": {},
   "source": [
    "Some of the commonly used libraries used by Data Scientists include:\n",
    "1. Pandas\n",
    "2. Numpy\n",
    "3. Scikit-learn"
   ]
  },
  {
   "cell_type": "markdown",
   "id": "365ef5b2-26ba-4810-bb3c-d0ba8f15049e",
   "metadata": {},
   "source": [
    "| Data Science Tools |\r\n",
    "|------|\r\n",
    "| Jupyter Notebook   |\r\n",
    "| RStudio            |\r\n",
    "| Spyder             |\r\n"
   ]
  },
  {
   "cell_type": "markdown",
   "id": "06ecdd98-938d-4ed3-8489-1ea8d364d06f",
   "metadata": {},
   "source": [
    "### Below are a few examples of evaluating arithmetic expressions in Python"
   ]
  },
  {
   "cell_type": "code",
   "execution_count": 36,
   "id": "44f45884-a84f-4a22-9d6f-ca24d8a64efd",
   "metadata": {},
   "outputs": [
    {
     "data": {
      "text/plain": [
       "17"
      ]
     },
     "execution_count": 36,
     "metadata": {},
     "output_type": "execute_result"
    }
   ],
   "source": [
    "#This a simple arithmetic expression to mutiply then add integers\n",
    "(3*4)+5"
   ]
  },
  {
   "cell_type": "code",
   "execution_count": 37,
   "id": "cbc002d3-c66d-4fbe-89b9-936802dafa6f",
   "metadata": {
    "scrolled": true
   },
   "outputs": [
    {
     "data": {
      "text/plain": [
       "3.3333333333333335"
      ]
     },
     "execution_count": 37,
     "metadata": {},
     "output_type": "execute_result"
    }
   ],
   "source": [
    "#This will convert 200 minutes to hours by diving by 60\n",
    "200/60"
   ]
  },
  {
   "cell_type": "markdown",
   "id": "36c712b3-d102-48da-9ecb-59689e82174b",
   "metadata": {},
   "source": [
    "**Objectives:**\n",
    "- List popular languages for Data Science\n",
    "- Explain how to install R packages\n",
    "- Describe the purpose of GitHub organizations\n",
    "- Demonstrate creating visualizations in R using ggplot2\n",
    "- Outline the steps to upload files to a GitHub repository"
   ]
  },
  {
   "cell_type": "markdown",
   "id": "d03942f7-a445-4f73-90c3-5cba4d0f145d",
   "metadata": {},
   "source": [
    "## Author\n",
    "KAUNG HTET SAN"
   ]
  },
  {
   "cell_type": "code",
   "execution_count": null,
   "id": "6043441b-2aa1-497b-9e74-8506b1a40e81",
   "metadata": {},
   "outputs": [],
   "source": []
  }
 ],
 "metadata": {
  "kernelspec": {
   "display_name": "anaconda-panel-2023.05-py310",
   "language": "python",
   "name": "conda-env-anaconda-panel-2023.05-py310-py"
  },
  "language_info": {
   "codemirror_mode": {
    "name": "ipython",
    "version": 3
   },
   "file_extension": ".py",
   "mimetype": "text/x-python",
   "name": "python",
   "nbconvert_exporter": "python",
   "pygments_lexer": "ipython3",
   "version": "3.11.5"
  }
 },
 "nbformat": 4,
 "nbformat_minor": 5
}
